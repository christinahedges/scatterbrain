{
 "cells": [
  {
   "cell_type": "markdown",
   "id": "3f1a1f69-9c8d-4a62-ae7e-8dfce32dcb07",
   "metadata": {},
   "source": [
    "# How to obtain asteroid mask files\n",
    "\n",
    "We need to mask the brightest asteroids before we're able to fit the `StarScene`. To do this we need to get all the asteroids that are bright. To do this, we can use some functionality inside of `scatterbrain`.\n",
    "\n",
    "Below I use a saved catalog of asteroids in TESS cycle 1."
   ]
  },
  {
   "cell_type": "markdown",
   "id": "4112e94f-219c-46ed-9cea-dccf442e31af",
   "metadata": {},
   "source": [
    "```Python\n",
    "from scatterbrain.asteroids import get_asteroid_files, get_asteroid_mask\n",
    "get_asteroid_files('/Users/ch/Projects/PDART/catalogs/first_big_catalog.csv', sectors=1)\n",
    "```"
   ]
  },
  {
   "cell_type": "markdown",
   "id": "52d95afc-22d7-45ed-b6ba-4d348bdbee7f",
   "metadata": {},
   "source": [
    "This function will find the brightest asteroids, use `tess-ephem` to get their ephemerides, and will store them as files inside `scatterbrain` for later use."
   ]
  }
 ],
 "metadata": {
  "kernelspec": {
   "display_name": "Python 3 (ipykernel)",
   "language": "python",
   "name": "python3"
  },
  "language_info": {
   "codemirror_mode": {
    "name": "ipython",
    "version": 3
   },
   "file_extension": ".py",
   "mimetype": "text/x-python",
   "name": "python",
   "nbconvert_exporter": "python",
   "pygments_lexer": "ipython3",
   "version": "3.8.7"
  }
 },
 "nbformat": 4,
 "nbformat_minor": 5
}
